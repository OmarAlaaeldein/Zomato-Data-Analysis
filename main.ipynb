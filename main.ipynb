{
 "cells": [
  {
   "cell_type": "markdown",
   "metadata": {},
   "source": [
    "# Project: Exploratory Data Analaysis and Machine Learning Modelling - [Zomato Dataset]\n",
    "\n"
   ]
  },
  {
   "cell_type": "markdown",
   "metadata": {},
   "source": [
    "### Table of Contents\n",
    "<ul>\n",
    "<li><a href=\"#intro\">Introduction</a></li>\n",
    "<li><a href=\"#eda\">Exploratory Data Analysis</a></li>\n",
    "    <li><a href=\"#wrangling\">Data Wrangling</a></li>\n",
    "        <li><a href=\"#engineering\">Feature Engineering</a></li>\n",
    "<li><a href=\"#ml\">Machine Learning Models</a></li>\n",
    "<li><a href=\"#hpt\">Hyperparameter Tuning</a></li>\n",
    "<li><a href=\"#summary\">Summary and Interpretation</a></li>\n",
    "</ul>"
   ]
  },
  {
   "cell_type": "markdown",
   "metadata": {},
   "source": [
    "### Zomato is an Indian restaurant aggregator and food delivery start-up founded by Deepinder Goyal and Pankaj Chaddah in 2008"
   ]
  },
  {
   "cell_type": "markdown",
   "metadata": {},
   "source": [
    "<a id='intro'></a>\n",
    "\n",
    "> ## Introduction"
   ]
  },
  {
   "cell_type": "markdown",
   "metadata": {},
   "source": [
    "### Dataset Description \n",
    "\n",
    "|Column|Significance|Type|\n",
    "|:----:|:----:|:----:| \n",
    "|  url  | Indicates the restaurant's link on Zomato website   | Categorical |\n",
    "|  address  | Restaraurant's address | Categorical |\n",
    "| name  | Restaraurant's name  | Categorical |\n",
    "| online_order  | Does this restaraunt support online orders?  | Categorical |\n",
    "| book_table  | Does this restaurant offer table book option? | Categorical |\n",
    "| rate  |  Indicates restaurant's rating out of 5 | Categorical-Ordinal |\n",
    "| votes | Number of votes | Numerical |\n",
    "| phone  |  Restaurant's contact phone number with a prefix country code  | Categorical-Multivalued |\n",
    "| location  |  Restaurant's location (town/city)  | Categorcial |\n",
    "| rest_type  |  Restaurant's type   | Categorical-Multivalued |\n",
    "| dish_liked  | Dished that customers usually prefer | Categorical-Multivalued |\n",
    "| cuisines  | Available food styles  | Categorical-Multivalued |\n",
    "| approx_cost(for two people) |  Average cost for two person meal (in Indian Rupee) | Numerical |\n",
    "| reviews_list | Provides a list of reviews by multiple customers about the review with an overall rating out of 5 | Categorical-Multivalued |\n",
    "| menu_item |  Provides list of available items in the restaurant's menu | Categorical-Multivalued |\n",
    "| listed_in(type) | Type of provided meals | Categorical |\n",
    "|  listed_in(city)  |  Which city the restaurant located in (vaguely similar function to location column)  | Categorical |"
   ]
  },
  {
   "cell_type": "markdown",
   "metadata": {},
   "source": [
    "#### Import required libraries"
   ]
  },
  {
   "cell_type": "code",
   "execution_count": 1,
   "metadata": {},
   "outputs": [],
   "source": [
    "import pandas as pd\n",
    "import seaborn as sns\n",
    "from sklearn import metrics\n",
    "from sklearn.linear_model import LogisticRegression\n",
    "from sklearn.ensemble import RandomForestClassifier,GradientBoostingClassifier\n",
    "from sklearn.model_selection import train_test_split,RandomizedSearchCV,GridSearchCV\n",
    "from sklearn.preprocessing import LabelEncoder\n",
    "import numpy as np\n",
    "from xgboost import XGBClassifier\n",
    "import matplotlib.pyplot as plt\n",
    "from matplotlib import style\n",
    "import warnings\n",
    "warnings.filterwarnings('ignore') # hide annoying warnings\n",
    "style.use('fivethirtyeight') # for more appealing vizs"
   ]
  },
  {
   "cell_type": "markdown",
   "metadata": {},
   "source": [
    "### Read CSV and display a brief preview"
   ]
  },
  {
   "cell_type": "code",
   "execution_count": 2,
   "metadata": {},
   "outputs": [],
   "source": [
    "df=pd.read_csv('zomato.csv')"
   ]
  },
  {
   "cell_type": "code",
   "execution_count": 3,
   "metadata": {},
   "outputs": [
    {
     "data": {
      "text/html": [
       "<div>\n",
       "<style scoped>\n",
       "    .dataframe tbody tr th:only-of-type {\n",
       "        vertical-align: middle;\n",
       "    }\n",
       "\n",
       "    .dataframe tbody tr th {\n",
       "        vertical-align: top;\n",
       "    }\n",
       "\n",
       "    .dataframe thead th {\n",
       "        text-align: right;\n",
       "    }\n",
       "</style>\n",
       "<table border=\"1\" class=\"dataframe\">\n",
       "  <thead>\n",
       "    <tr style=\"text-align: right;\">\n",
       "      <th></th>\n",
       "      <th>url</th>\n",
       "      <th>address</th>\n",
       "      <th>name</th>\n",
       "      <th>online_order</th>\n",
       "      <th>book_table</th>\n",
       "      <th>rate</th>\n",
       "      <th>votes</th>\n",
       "      <th>phone</th>\n",
       "      <th>location</th>\n",
       "      <th>rest_type</th>\n",
       "      <th>dish_liked</th>\n",
       "      <th>cuisines</th>\n",
       "      <th>approx_cost(for two people)</th>\n",
       "      <th>reviews_list</th>\n",
       "      <th>menu_item</th>\n",
       "      <th>listed_in(type)</th>\n",
       "      <th>listed_in(city)</th>\n",
       "    </tr>\n",
       "  </thead>\n",
       "  <tbody>\n",
       "    <tr>\n",
       "      <th>0</th>\n",
       "      <td>https://www.zomato.com/bangalore/jalsa-banasha...</td>\n",
       "      <td>942, 21st Main Road, 2nd Stage, Banashankari, ...</td>\n",
       "      <td>Jalsa</td>\n",
       "      <td>Yes</td>\n",
       "      <td>Yes</td>\n",
       "      <td>4.1/5</td>\n",
       "      <td>775</td>\n",
       "      <td>080 42297555\\r\\n+91 9743772233</td>\n",
       "      <td>Banashankari</td>\n",
       "      <td>Casual Dining</td>\n",
       "      <td>Pasta, Lunch Buffet, Masala Papad, Paneer Laja...</td>\n",
       "      <td>North Indian, Mughlai, Chinese</td>\n",
       "      <td>800</td>\n",
       "      <td>[('Rated 4.0', 'RATED\\n  A beautiful place to ...</td>\n",
       "      <td>[]</td>\n",
       "      <td>Buffet</td>\n",
       "      <td>Banashankari</td>\n",
       "    </tr>\n",
       "    <tr>\n",
       "      <th>1</th>\n",
       "      <td>https://www.zomato.com/bangalore/spice-elephan...</td>\n",
       "      <td>2nd Floor, 80 Feet Road, Near Big Bazaar, 6th ...</td>\n",
       "      <td>Spice Elephant</td>\n",
       "      <td>Yes</td>\n",
       "      <td>No</td>\n",
       "      <td>4.1/5</td>\n",
       "      <td>787</td>\n",
       "      <td>080 41714161</td>\n",
       "      <td>Banashankari</td>\n",
       "      <td>Casual Dining</td>\n",
       "      <td>Momos, Lunch Buffet, Chocolate Nirvana, Thai G...</td>\n",
       "      <td>Chinese, North Indian, Thai</td>\n",
       "      <td>800</td>\n",
       "      <td>[('Rated 4.0', 'RATED\\n  Had been here for din...</td>\n",
       "      <td>[]</td>\n",
       "      <td>Buffet</td>\n",
       "      <td>Banashankari</td>\n",
       "    </tr>\n",
       "    <tr>\n",
       "      <th>2</th>\n",
       "      <td>https://www.zomato.com/SanchurroBangalore?cont...</td>\n",
       "      <td>1112, Next to KIMS Medical College, 17th Cross...</td>\n",
       "      <td>San Churro Cafe</td>\n",
       "      <td>Yes</td>\n",
       "      <td>No</td>\n",
       "      <td>3.8/5</td>\n",
       "      <td>918</td>\n",
       "      <td>+91 9663487993</td>\n",
       "      <td>Banashankari</td>\n",
       "      <td>Cafe, Casual Dining</td>\n",
       "      <td>Churros, Cannelloni, Minestrone Soup, Hot Choc...</td>\n",
       "      <td>Cafe, Mexican, Italian</td>\n",
       "      <td>800</td>\n",
       "      <td>[('Rated 3.0', \"RATED\\n  Ambience is not that ...</td>\n",
       "      <td>[]</td>\n",
       "      <td>Buffet</td>\n",
       "      <td>Banashankari</td>\n",
       "    </tr>\n",
       "    <tr>\n",
       "      <th>3</th>\n",
       "      <td>https://www.zomato.com/bangalore/addhuri-udupi...</td>\n",
       "      <td>1st Floor, Annakuteera, 3rd Stage, Banashankar...</td>\n",
       "      <td>Addhuri Udupi Bhojana</td>\n",
       "      <td>No</td>\n",
       "      <td>No</td>\n",
       "      <td>3.7/5</td>\n",
       "      <td>88</td>\n",
       "      <td>+91 9620009302</td>\n",
       "      <td>Banashankari</td>\n",
       "      <td>Quick Bites</td>\n",
       "      <td>Masala Dosa</td>\n",
       "      <td>South Indian, North Indian</td>\n",
       "      <td>300</td>\n",
       "      <td>[('Rated 4.0', \"RATED\\n  Great food and proper...</td>\n",
       "      <td>[]</td>\n",
       "      <td>Buffet</td>\n",
       "      <td>Banashankari</td>\n",
       "    </tr>\n",
       "    <tr>\n",
       "      <th>4</th>\n",
       "      <td>https://www.zomato.com/bangalore/grand-village...</td>\n",
       "      <td>10, 3rd Floor, Lakshmi Associates, Gandhi Baza...</td>\n",
       "      <td>Grand Village</td>\n",
       "      <td>No</td>\n",
       "      <td>No</td>\n",
       "      <td>3.8/5</td>\n",
       "      <td>166</td>\n",
       "      <td>+91 8026612447\\r\\n+91 9901210005</td>\n",
       "      <td>Basavanagudi</td>\n",
       "      <td>Casual Dining</td>\n",
       "      <td>Panipuri, Gol Gappe</td>\n",
       "      <td>North Indian, Rajasthani</td>\n",
       "      <td>600</td>\n",
       "      <td>[('Rated 4.0', 'RATED\\n  Very good restaurant ...</td>\n",
       "      <td>[]</td>\n",
       "      <td>Buffet</td>\n",
       "      <td>Banashankari</td>\n",
       "    </tr>\n",
       "  </tbody>\n",
       "</table>\n",
       "</div>"
      ],
      "text/plain": [
       "                                                 url  \\\n",
       "0  https://www.zomato.com/bangalore/jalsa-banasha...   \n",
       "1  https://www.zomato.com/bangalore/spice-elephan...   \n",
       "2  https://www.zomato.com/SanchurroBangalore?cont...   \n",
       "3  https://www.zomato.com/bangalore/addhuri-udupi...   \n",
       "4  https://www.zomato.com/bangalore/grand-village...   \n",
       "\n",
       "                                             address                   name  \\\n",
       "0  942, 21st Main Road, 2nd Stage, Banashankari, ...                  Jalsa   \n",
       "1  2nd Floor, 80 Feet Road, Near Big Bazaar, 6th ...         Spice Elephant   \n",
       "2  1112, Next to KIMS Medical College, 17th Cross...        San Churro Cafe   \n",
       "3  1st Floor, Annakuteera, 3rd Stage, Banashankar...  Addhuri Udupi Bhojana   \n",
       "4  10, 3rd Floor, Lakshmi Associates, Gandhi Baza...          Grand Village   \n",
       "\n",
       "  online_order book_table   rate  votes                             phone  \\\n",
       "0          Yes        Yes  4.1/5    775    080 42297555\\r\\n+91 9743772233   \n",
       "1          Yes         No  4.1/5    787                      080 41714161   \n",
       "2          Yes         No  3.8/5    918                    +91 9663487993   \n",
       "3           No         No  3.7/5     88                    +91 9620009302   \n",
       "4           No         No  3.8/5    166  +91 8026612447\\r\\n+91 9901210005   \n",
       "\n",
       "       location            rest_type  \\\n",
       "0  Banashankari        Casual Dining   \n",
       "1  Banashankari        Casual Dining   \n",
       "2  Banashankari  Cafe, Casual Dining   \n",
       "3  Banashankari          Quick Bites   \n",
       "4  Basavanagudi        Casual Dining   \n",
       "\n",
       "                                          dish_liked  \\\n",
       "0  Pasta, Lunch Buffet, Masala Papad, Paneer Laja...   \n",
       "1  Momos, Lunch Buffet, Chocolate Nirvana, Thai G...   \n",
       "2  Churros, Cannelloni, Minestrone Soup, Hot Choc...   \n",
       "3                                        Masala Dosa   \n",
       "4                                Panipuri, Gol Gappe   \n",
       "\n",
       "                         cuisines approx_cost(for two people)  \\\n",
       "0  North Indian, Mughlai, Chinese                         800   \n",
       "1     Chinese, North Indian, Thai                         800   \n",
       "2          Cafe, Mexican, Italian                         800   \n",
       "3      South Indian, North Indian                         300   \n",
       "4        North Indian, Rajasthani                         600   \n",
       "\n",
       "                                        reviews_list menu_item  \\\n",
       "0  [('Rated 4.0', 'RATED\\n  A beautiful place to ...        []   \n",
       "1  [('Rated 4.0', 'RATED\\n  Had been here for din...        []   \n",
       "2  [('Rated 3.0', \"RATED\\n  Ambience is not that ...        []   \n",
       "3  [('Rated 4.0', \"RATED\\n  Great food and proper...        []   \n",
       "4  [('Rated 4.0', 'RATED\\n  Very good restaurant ...        []   \n",
       "\n",
       "  listed_in(type) listed_in(city)  \n",
       "0          Buffet    Banashankari  \n",
       "1          Buffet    Banashankari  \n",
       "2          Buffet    Banashankari  \n",
       "3          Buffet    Banashankari  \n",
       "4          Buffet    Banashankari  "
      ]
     },
     "execution_count": 3,
     "metadata": {},
     "output_type": "execute_result"
    }
   ],
   "source": [
    "df.head()"
   ]
  },
  {
   "cell_type": "markdown",
   "metadata": {},
   "source": [
    "<a id='eda'></a>\n",
    "\n",
    "> ## Exploratory Data Analysis\n",
    "\n",
    "### Questions\n",
    "\n",
    "<ul>\n",
    "<li><a href=\"#q1\">What is the percentage of restuarants that accepts online orders?</a></li>\n",
    "<li><a href=\"#q2\">Which city has higher average ratings overall?</a></li>\n",
    "<li><a href=\"#q3\">What is the most common restaurant type, and which type has the highest average rating?</a></li>\n",
    "<li><a href=\"#q4\">Does restaurants that provide their services within reasonable prices have better ratings?</a></li>\n",
    "<li><a href=\"#q5\">Is there any linear correlation between any of the numerical columns in this dataset?</a></li>\n",
    "<li><a href=\"#q6\">Which cities have the highest purchasing power in Bangalore?</a></li>\n",
    "<li><a href=\"#q7\">Does a restuarant have a higher average rating if it has both a book table reservation and online order?</a></li>\n",
    "</ul>"
   ]
  },
  {
   "cell_type": "markdown",
   "metadata": {},
   "source": [
    "<a id='q1'></a>\n",
    "\n",
    "### Q1: What is the percentage of restaurants that accepts online orders?"
   ]
  },
  {
   "cell_type": "code",
   "execution_count": 4,
   "metadata": {},
   "outputs": [
    {
     "data": {
      "image/png": "[encoded data removed]",
      "text/plain": [
       "<Figure size 576x576 with 1 Axes>"
      ]
     },
     "metadata": {},
     "output_type": "display_data"
    }
   ],
   "source": [
    "q6=df.groupby('online_order')['online_order'].count()/len(df)\n",
    "q6.plot(kind='pie',autopct='%1.0f%%',label='',figsize=(8,8));\n",
    "plt.title(\"Percentage of restuarants that support online orders\")\n",
    "plt.tight_layout()"
   ]
  },
  {
   "cell_type": "markdown",
   "metadata": {},
   "source": [
    "#### 59% of restuarants support online orders"
   ]
  },
  {
   "cell_type": "markdown",
   "metadata": {},
   "source": [
    "<a id='q2'></a>\n",
    "\n",
    "### Q2: Which city has higher average ratings overall?"
   ]
  },
  {
   "cell_type": "markdown",
   "metadata": {},
   "source": [
    "#### We need to clean **rate** column"
   ]
  },
  {
   "cell_type": "code",
   "execution_count": 5,
   "metadata": {},
   "outputs": [
    {
     "data": {
      "text/plain": [
       "NEW       2208\n",
       "3.9/5     2098\n",
       "3.8/5     2022\n",
       "3.7/5     2011\n",
       "3.9 /5    1874\n",
       "          ... \n",
       "2.2 /5       7\n",
       "2.0 /5       7\n",
       "2.0/5        4\n",
       "1.8 /5       3\n",
       "1.8/5        2\n",
       "Name: rate, Length: 64, dtype: int64"
      ]
     },
     "execution_count": 5,
     "metadata": {},
     "output_type": "execute_result"
    }
   ],
   "source": [
    "df['rate'].value_counts()"
   ]
  },
  {
   "cell_type": "markdown",
   "metadata": {},
   "source": [
    "#### As we can see there are problamatic values"
   ]
  },
  {
   "cell_type": "markdown",
   "metadata": {},
   "source": [
    "#### Lets clean the **rate** column since its problamatic format will prevent us from extracting useful insight from it and using it later for machine learning"
   ]
  },
  {
   "cell_type": "code",
   "execution_count": 6,
   "metadata": {},
   "outputs": [
    {
     "name": "stdout",
     "output_type": "stream",
     "text": [
      "NEW\n",
      "3.9/5\n",
      "3.8/5\n",
      "3.7/5\n",
      "3.9 /5\n",
      "3.8 /5\n",
      "3.7 /5\n",
      "3.6/5\n",
      "4.0/5\n",
      "4.0 /5\n",
      "3.6 /5\n",
      "4.1 /5\n",
      "4.1/5\n",
      "3.5/5\n",
      "3.5 /5\n",
      "3.4/5\n",
      "3.4 /5\n",
      "3.3/5\n",
      "4.2 /5\n",
      "3.3 /5\n",
      "4.2/5\n",
      "3.2/5\n",
      "4.3 /5\n",
      "3.2 /5\n",
      "3.1/5\n",
      "4.3/5\n",
      "3.1 /5\n",
      "4.4 /5\n",
      "3.0/5\n",
      "4.4/5\n",
      "3.0 /5\n",
      "2.9/5\n",
      "4.5 /5\n",
      "2.9 /5\n",
      "2.8/5\n",
      "2.8 /5\n",
      "4.5/5\n",
      "4.6 /5\n",
      "2.7/5\n",
      "2.6/5\n",
      "2.7 /5\n",
      "4.6/5\n",
      "2.6 /5\n",
      "4.7 /5\n",
      "4.7/5\n",
      "-\n",
      "2.5 /5\n",
      "2.5/5\n",
      "4.8 /5\n",
      "2.4/5\n",
      "4.9 /5\n",
      "2.4 /5\n",
      "2.3/5\n",
      "4.9/5\n",
      "2.3 /5\n",
      "4.8/5\n",
      "2.2/5\n",
      "2.1 /5\n",
      "2.1/5\n",
      "2.2 /5\n",
      "2.0 /5\n",
      "2.0/5\n",
      "1.8 /5\n",
      "1.8/5\n"
     ]
    }
   ],
   "source": [
    "for i in df['rate'].value_counts().index:\n",
    "    print(i)"
   ]
  },
  {
   "cell_type": "markdown",
   "metadata": {},
   "source": [
    "#### Most common rating in descending order to make sure of values homogenity"
   ]
  },
  {
   "cell_type": "code",
   "execution_count": 7,
   "metadata": {},
   "outputs": [],
   "source": [
    "df[\"rate\"] = df[\"rate\"].replace(\"NEW\", np.nan) # Replace useless values with nan\n",
    "#df.dropna(axis=0,subset=['rate'],how='any',inplace=True)"
   ]
  },
  {
   "cell_type": "markdown",
   "metadata": {},
   "source": [
    "#### There is a '-' rating which is equivalent to NA so lets convert it to na too"
   ]
  },
  {
   "cell_type": "code",
   "execution_count": 8,
   "metadata": {},
   "outputs": [],
   "source": [
    "df[\"rate\"] = df[\"rate\"].replace(\"-\", np.nan)"
   ]
  },
  {
   "cell_type": "markdown",
   "metadata": {},
   "source": [
    "#### Now lets remove the '/5' from the strings"
   ]
  },
  {
   "cell_type": "code",
   "execution_count": 9,
   "metadata": {},
   "outputs": [],
   "source": [
    "def remove_5(string: str):\n",
    "    if type(string)==str:\n",
    "        new_string=string.split('/')[0]\n",
    "        return new_string\n",
    "    return string"
   ]
  },
  {
   "cell_type": "code",
   "execution_count": 10,
   "metadata": {},
   "outputs": [],
   "source": [
    "df['rate']=df['rate'].apply(remove_5)"
   ]
  },
  {
   "cell_type": "markdown",
   "metadata": {},
   "source": [
    "#### **rate** column data type is object (string) so lets convert it to be a quantitative categorical variable "
   ]
  },
  {
   "cell_type": "code",
   "execution_count": 11,
   "metadata": {},
   "outputs": [
    {
     "data": {
      "text/plain": [
       "0        4.1\n",
       "1        4.1\n",
       "2        3.8\n",
       "3        3.7\n",
       "4        3.8\n",
       "        ... \n",
       "51712    3.6\n",
       "51713    NaN\n",
       "51714    NaN\n",
       "51715    4.3\n",
       "51716    3.4\n",
       "Name: rate, Length: 51717, dtype: float64"
      ]
     },
     "execution_count": 11,
     "metadata": {},
     "output_type": "execute_result"
    }
   ],
   "source": [
    "df['rate']=df['rate'].map(float)\n",
    "#df['rate']=df['rate'].map(str.strip)\n",
    "df['rate']"
   ]
  },
  {
   "cell_type": "code",
   "execution_count": 12,
   "metadata": {},
   "outputs": [
    {
     "data": {
      "text/plain": [
       "Text(0.5, 0, 'Rating')"
      ]
     },
     "execution_count": 12,
     "metadata": {},
     "output_type": "execute_result"
    },
    {
     "data": {
      "image/png": "[encoded data removed]",
      "text/plain": [
       "<Figure size 1152x1152 with 1 Axes>"
      ]
     },
     "metadata": {},
     "output_type": "display_data"
    }
   ],
   "source": [
    "#q1=df['rate'].value_counts()/len(df)#.plot(kind='barh',figsize=(16,16))\n",
    "#q1.plot(kind='barh',figsize=(16,16))\n",
    "q1=df.groupby(\"listed_in(city)\")[\"rate\"].mean().sort_values(ascending=True)\n",
    "q1.plot(kind='barh',figsize=(16,16));\n",
    "plt.title('Average Ratings per City')\n",
    "plt.ylabel('City')\n",
    "plt.xlabel('Rating')"
   ]
  },
  {
   "cell_type": "markdown",
   "metadata": {},
   "source": [
    "#### **Church Street** has the highest average rating restaurants, while **Electronic City** has the lowest average rating"
   ]
  },
  {
   "cell_type": "markdown",
   "metadata": {},
   "source": [
    "<a id='q3'></a>\n",
    "### Q3: What is the most common restuarant type, and which type has the highest average rating?"
   ]
  },
  {
   "cell_type": "markdown",
   "metadata": {},
   "source": [
    "#### Below are some insights about this column"
   ]
  },
  {
   "cell_type": "code",
   "execution_count": 13,
   "metadata": {},
   "outputs": [
    {
     "data": {
      "text/plain": [
       "0          Casual Dining\n",
       "1          Casual Dining\n",
       "2    Cafe, Casual Dining\n",
       "3            Quick Bites\n",
       "4          Casual Dining\n",
       "Name: rest_type, dtype: object"
      ]
     },
     "execution_count": 13,
     "metadata": {},
     "output_type": "execute_result"
    }
   ],
   "source": [
    "df['rest_type'].head() # First 5 entries"
   ]
  },
  {
   "cell_type": "code",
   "execution_count": 14,
   "metadata": {},
   "outputs": [
    {
     "data": {
      "text/plain": [
       "Quick Bites                   19132\n",
       "Casual Dining                 10330\n",
       "Cafe                           3732\n",
       "Delivery                       2604\n",
       "Dessert Parlor                 2263\n",
       "                              ...  \n",
       "Dessert Parlor, Kiosk             2\n",
       "Food Court, Beverage Shop         2\n",
       "Dessert Parlor, Food Court        2\n",
       "Sweet Shop, Dessert Parlor        1\n",
       "Quick Bites, Kiosk                1\n",
       "Name: rest_type, Length: 93, dtype: int64"
      ]
     },
     "execution_count": 14,
     "metadata": {},
     "output_type": "execute_result"
    }
   ],
   "source": [
    "df['rest_type'].value_counts() # Most common values"
   ]
  },
  {
   "cell_type": "markdown",
   "metadata": {},
   "source": [
    "#### The most common restuarant type is Quick Bites, below is a simple bar chart for the top 10 restuarant type"
   ]
  },
  {
   "cell_type": "code",
   "execution_count": 15,
   "metadata": {},
   "outputs": [
    {
     "data": {
      "text/plain": [
       "<AxesSubplot:>"
      ]
     },
     "execution_count": 15,
     "metadata": {},
     "output_type": "execute_result"
    },
    {
     "data": {
      "image/png": "[encoded data removed]",
      "text/plain": [
       "<Figure size 432x288 with 1 Axes>"
      ]
     },
     "metadata": {},
     "output_type": "display_data"
    }
   ],
   "source": [
    "df['rest_type'].value_counts()[0:10].sort_values().plot(kind='barh')"
   ]
  },
  {
   "cell_type": "markdown",
   "metadata": {},
   "source": [
    "#### Its clear that we need to make this column in 1st normal form / convert each entry with multivalue to a new entry to find which restuarant types are prefered"
   ]
  },
  {
   "cell_type": "code",
   "execution_count": 16,
   "metadata": {},
   "outputs": [],
   "source": [
    "df['rest_type']=df['rest_type'].map(str) # prevents an error with errounus values\n",
    "df['rest_type']=df['rest_type'].map(str.strip)\n",
    "def multivalue_to_list(string: str,sep: chr):\n",
    "    new=string.split(sep)\n",
    "    return new"
   ]
  },
  {
   "cell_type": "code",
   "execution_count": 17,
   "metadata": {},
   "outputs": [],
   "source": [
    "df['rest_type']=df['rest_type'].apply(multivalue_to_list,args=(','))\n"
   ]
  },
  {
   "cell_type": "code",
   "execution_count": 18,
   "metadata": {},
   "outputs": [
    {
     "data": {
      "text/html": [
       "<div>\n",
       "<style scoped>\n",
       "    .dataframe tbody tr th:only-of-type {\n",
       "        vertical-align: middle;\n",
       "    }\n",
       "\n",
       "    .dataframe tbody tr th {\n",
       "        vertical-align: top;\n",
       "    }\n",
       "\n",
       "    .dataframe thead th {\n",
       "        text-align: right;\n",
       "    }\n",
       "</style>\n",
       "<table border=\"1\" class=\"dataframe\">\n",
       "  <thead>\n",
       "    <tr style=\"text-align: right;\">\n",
       "      <th></th>\n",
       "      <th>url</th>\n",
       "      <th>address</th>\n",
       "      <th>name</th>\n",
       "      <th>online_order</th>\n",
       "      <th>book_table</th>\n",
       "      <th>rate</th>\n",
       "      <th>votes</th>\n",
       "      <th>phone</th>\n",
       "      <th>location</th>\n",
       "      <th>rest_type</th>\n",
       "      <th>dish_liked</th>\n",
       "      <th>cuisines</th>\n",
       "      <th>approx_cost(for two people)</th>\n",
       "      <th>reviews_list</th>\n",
       "      <th>menu_item</th>\n",
       "      <th>listed_in(type)</th>\n",
       "      <th>listed_in(city)</th>\n",
       "    </tr>\n",
       "  </thead>\n",
       "  <tbody>\n",
       "    <tr>\n",
       "      <th>0</th>\n",
       "      <td>https://www.zomato.com/bangalore/jalsa-banasha...</td>\n",
       "      <td>942, 21st Main Road, 2nd Stage, Banashankari, ...</td>\n",
       "      <td>Jalsa</td>\n",
       "      <td>Yes</td>\n",
       "      <td>Yes</td>\n",
       "      <td>4.1</td>\n",
       "      <td>775</td>\n",
       "      <td>080 42297555\\r\\n+91 9743772233</td>\n",
       "      <td>Banashankari</td>\n",
       "      <td>Casual Dining</td>\n",
       "      <td>Pasta, Lunch Buffet, Masala Papad, Paneer Laja...</td>\n",
       "      <td>North Indian, Mughlai, Chinese</td>\n",
       "      <td>800</td>\n",
       "      <td>[('Rated 4.0', 'RATED\\n  A beautiful place to ...</td>\n",
       "      <td>[]</td>\n",
       "      <td>Buffet</td>\n",
       "      <td>Banashankari</td>\n",
       "    </tr>\n",
       "    <tr>\n",
       "      <th>1</th>\n",
       "      <td>https://www.zomato.com/bangalore/spice-elephan...</td>\n",
       "      <td>2nd Floor, 80 Feet Road, Near Big Bazaar, 6th ...</td>\n",
       "      <td>Spice Elephant</td>\n",
       "      <td>Yes</td>\n",
       "      <td>No</td>\n",
       "      <td>4.1</td>\n",
       "      <td>787</td>\n",
       "      <td>080 41714161</td>\n",
       "      <td>Banashankari</td>\n",
       "      <td>Casual Dining</td>\n",
       "      <td>Momos, Lunch Buffet, Chocolate Nirvana, Thai G...</td>\n",
       "      <td>Chinese, North Indian, Thai</td>\n",
       "      <td>800</td>\n",
       "      <td>[('Rated 4.0', 'RATED\\n  Had been here for din...</td>\n",
       "      <td>[]</td>\n",
       "      <td>Buffet</td>\n",
       "      <td>Banashankari</td>\n",
       "    </tr>\n",
       "    <tr>\n",
       "      <th>2</th>\n",
       "      <td>https://www.zomato.com/SanchurroBangalore?cont...</td>\n",
       "      <td>1112, Next to KIMS Medical College, 17th Cross...</td>\n",
       "      <td>San Churro Cafe</td>\n",
       "      <td>Yes</td>\n",
       "      <td>No</td>\n",
       "      <td>3.8</td>\n",
       "      <td>918</td>\n",
       "      <td>+91 9663487993</td>\n",
       "      <td>Banashankari</td>\n",
       "      <td>Cafe</td>\n",
       "      <td>Churros, Cannelloni, Minestrone Soup, Hot Choc...</td>\n",
       "      <td>Cafe, Mexican, Italian</td>\n",
       "      <td>800</td>\n",
       "      <td>[('Rated 3.0', \"RATED\\n  Ambience is not that ...</td>\n",
       "      <td>[]</td>\n",
       "      <td>Buffet</td>\n",
       "      <td>Banashankari</td>\n",
       "    </tr>\n",
       "    <tr>\n",
       "      <th>2</th>\n",
       "      <td>https://www.zomato.com/SanchurroBangalore?cont...</td>\n",
       "      <td>1112, Next to KIMS Medical College, 17th Cross...</td>\n",
       "      <td>San Churro Cafe</td>\n",
       "      <td>Yes</td>\n",
       "      <td>No</td>\n",
       "      <td>3.8</td>\n",
       "      <td>918</td>\n",
       "      <td>+91 9663487993</td>\n",
       "      <td>Banashankari</td>\n",
       "      <td>Casual Dining</td>\n",
       "      <td>Churros, Cannelloni, Minestrone Soup, Hot Choc...</td>\n",
       "      <td>Cafe, Mexican, Italian</td>\n",
       "      <td>800</td>\n",
       "      <td>[('Rated 3.0', \"RATED\\n  Ambience is not that ...</td>\n",
       "      <td>[]</td>\n",
       "      <td>Buffet</td>\n",
       "      <td>Banashankari</td>\n",
       "    </tr>\n",
       "    <tr>\n",
       "      <th>3</th>\n",
       "      <td>https://www.zomato.com/bangalore/addhuri-udupi...</td>\n",
       "      <td>1st Floor, Annakuteera, 3rd Stage, Banashankar...</td>\n",
       "      <td>Addhuri Udupi Bhojana</td>\n",
       "      <td>No</td>\n",
       "      <td>No</td>\n",
       "      <td>3.7</td>\n",
       "      <td>88</td>\n",
       "      <td>+91 9620009302</td>\n",
       "      <td>Banashankari</td>\n",
       "      <td>Quick Bites</td>\n",
       "      <td>Masala Dosa</td>\n",
       "      <td>South Indian, North Indian</td>\n",
       "      <td>300</td>\n",
       "      <td>[('Rated 4.0', \"RATED\\n  Great food and proper...</td>\n",
       "      <td>[]</td>\n",
       "      <td>Buffet</td>\n",
       "      <td>Banashankari</td>\n",
       "    </tr>\n",
       "  </tbody>\n",
       "</table>\n",
       "</div>"
      ],
      "text/plain": [
       "                                                 url  \\\n",
       "0  https://www.zomato.com/bangalore/jalsa-banasha...   \n",
       "1  https://www.zomato.com/bangalore/spice-elephan...   \n",
       "2  https://www.zomato.com/SanchurroBangalore?cont...   \n",
       "2  https://www.zomato.com/SanchurroBangalore?cont...   \n",
       "3  https://www.zomato.com/bangalore/addhuri-udupi...   \n",
       "\n",
       "                                             address                   name  \\\n",
       "0  942, 21st Main Road, 2nd Stage, Banashankari, ...                  Jalsa   \n",
       "1  2nd Floor, 80 Feet Road, Near Big Bazaar, 6th ...         Spice Elephant   \n",
       "2  1112, Next to KIMS Medical College, 17th Cross...        San Churro Cafe   \n",
       "2  1112, Next to KIMS Medical College, 17th Cross...        San Churro Cafe   \n",
       "3  1st Floor, Annakuteera, 3rd Stage, Banashankar...  Addhuri Udupi Bhojana   \n",
       "\n",
       "  online_order book_table  rate  votes                           phone  \\\n",
       "0          Yes        Yes   4.1    775  080 42297555\\r\\n+91 9743772233   \n",
       "1          Yes         No   4.1    787                    080 41714161   \n",
       "2          Yes         No   3.8    918                  +91 9663487993   \n",
       "2          Yes         No   3.8    918                  +91 9663487993   \n",
       "3           No         No   3.7     88                  +91 9620009302   \n",
       "\n",
       "       location       rest_type  \\\n",
       "0  Banashankari   Casual Dining   \n",
       "1  Banashankari   Casual Dining   \n",
       "2  Banashankari            Cafe   \n",
       "2  Banashankari   Casual Dining   \n",
       "3  Banashankari     Quick Bites   \n",
       "\n",
       "                                          dish_liked  \\\n",
       "0  Pasta, Lunch Buffet, Masala Papad, Paneer Laja...   \n",
       "1  Momos, Lunch Buffet, Chocolate Nirvana, Thai G...   \n",
       "2  Churros, Cannelloni, Minestrone Soup, Hot Choc...   \n",
       "2  Churros, Cannelloni, Minestrone Soup, Hot Choc...   \n",
       "3                                        Masala Dosa   \n",
       "\n",
       "                         cuisines approx_cost(for two people)  \\\n",
       "0  North Indian, Mughlai, Chinese                         800   \n",
       "1     Chinese, North Indian, Thai                         800   \n",
       "2          Cafe, Mexican, Italian                         800   \n",
       "2          Cafe, Mexican, Italian                         800   \n",
       "3      South Indian, North Indian                         300   \n",
       "\n",
       "                                        reviews_list menu_item  \\\n",
       "0  [('Rated 4.0', 'RATED\\n  A beautiful place to ...        []   \n",
       "1  [('Rated 4.0', 'RATED\\n  Had been here for din...        []   \n",
       "2  [('Rated 3.0', \"RATED\\n  Ambience is not that ...        []   \n",
       "2  [('Rated 3.0', \"RATED\\n  Ambience is not that ...        []   \n",
       "3  [('Rated 4.0', \"RATED\\n  Great food and proper...        []   \n",
       "\n",
       "  listed_in(type) listed_in(city)  \n",
       "0          Buffet    Banashankari  \n",
       "1          Buffet    Banashankari  \n",
       "2          Buffet    Banashankari  \n",
       "2          Buffet    Banashankari  \n",
       "3          Buffet    Banashankari  "
      ]
     },
     "execution_count": 18,
     "metadata": {},
     "output_type": "execute_result"
    }
   ],
   "source": [
    "df=df.explode('rest_type') # a very useful function which converts a list/tuple values into seperate entries\n",
    "df.head()"
   ]
  },
  {
   "cell_type": "code",
   "execution_count": 19,
   "metadata": {},
   "outputs": [
    {
     "data": {
      "image/png": "[encoded data removed]",
      "text/plain": [
       "<Figure size 720x720 with 1 Axes>"
      ]
     },
     "metadata": {},
     "output_type": "display_data"
    }
   ],
   "source": [
    "q2=df.groupby('rest_type')['rate'].mean().sort_values(ascending=True)[0:10]\n",
    "\n",
    "q2.plot(kind='barh',figsize=(10,10));\n",
    "plt.ylabel('Restaurant type');\n",
    "plt.xlabel('Rating out of 5');"
   ]
  },
  {
   "cell_type": "markdown",
   "metadata": {},
   "source": [
    "#### Customers tend to rate restaurant that provide delivery solely or along with other restaurant types highly"
   ]
  },
  {
   "cell_type": "markdown",
   "metadata": {},
   "source": [
    "<a id='q4'></a>\n",
    "\n",
    "### Q4: Does restaurants that provide their services within reasonable prices have better ratings?"
   ]
  },
  {
   "cell_type": "code",
   "execution_count": 20,
   "metadata": {},
   "outputs": [
    {
     "data": {
      "text/plain": [
       "300      8375\n",
       "400      7486\n",
       "500      5595\n",
       "200      5345\n",
       "600      4218\n",
       "         ... \n",
       "560         1\n",
       "469         1\n",
       "5,000       1\n",
       "3,700       1\n",
       "160         1\n",
       "Name: approx_cost(for two people), Length: 70, dtype: int64"
      ]
     },
     "execution_count": 20,
     "metadata": {},
     "output_type": "execute_result"
    }
   ],
   "source": [
    "#df['approx_cost(for two people)']=df['approx_cost(for two people)'].map(float)\n",
    "df['approx_cost(for two people)'].value_counts() # Most common values"
   ]
  },
  {
   "cell_type": "code",
   "execution_count": 21,
   "metadata": {},
   "outputs": [
    {
     "name": "stdout",
     "output_type": "stream",
     "text": [
      "300\n",
      "400\n",
      "500\n",
      "200\n",
      "600\n",
      "250\n",
      "800\n",
      "150\n",
      "700\n",
      "1,000\n",
      "350\n",
      "450\n",
      "1,200\n",
      "1,500\n",
      "100\n",
      "550\n",
      "650\n",
      "900\n",
      "750\n",
      "1,300\n",
      "1,100\n",
      "1,400\n",
      "2,000\n",
      "1,700\n",
      "1,600\n",
      "1,800\n",
      "3,000\n",
      "2,500\n",
      "850\n",
      "1,900\n",
      "2,100\n",
      "2,200\n",
      "950\n",
      "2,800\n",
      "4,000\n",
      "3,500\n",
      "2,400\n",
      "120\n",
      "180\n",
      "1,350\n",
      "3,400\n",
      "2,600\n",
      "1,650\n",
      "2,300\n",
      "1,250\n",
      "230\n",
      "80\n",
      "40\n",
      "130\n",
      "50\n",
      "199\n",
      "1,450\n",
      "4,100\n",
      "240\n",
      "1,050\n",
      "190\n",
      "330\n",
      "70\n",
      "2,700\n",
      "3,200\n",
      "360\n",
      "6,000\n",
      "4,500\n",
      "140\n",
      "60\n",
      "560\n",
      "469\n",
      "5,000\n",
      "3,700\n",
      "160\n"
     ]
    }
   ],
   "source": [
    "for i in df['approx_cost(for two people)'].value_counts().index: # Check if any outlier value exists\n",
    "    print(i)\n"
   ]
  },
  {
   "cell_type": "markdown",
   "metadata": {},
   "source": [
    "#### Unfortunately there are some values which cannot be treated numerically in python since ',' character exists in some numbers , lets apply a function that manipulates any string that has ',' and removes it then map the column data type to be a numerical"
   ]
  },
  {
   "cell_type": "code",
   "execution_count": 22,
   "metadata": {},
   "outputs": [],
   "source": [
    "def approperiate_numbers(string: str):\n",
    "    if type(string)==str: # prevents an error by nan values\n",
    "        new=string.replace(',','')\n",
    "        return new\n",
    "    return string"
   ]
  },
  {
   "cell_type": "code",
   "execution_count": 23,
   "metadata": {},
   "outputs": [],
   "source": [
    "df['approx_cost(for two people)']=df['approx_cost(for two people)'].apply(approperiate_numbers)\n",
    "df['approx_cost(for two people)']=df['approx_cost(for two people)'].map(float)"
   ]
  },
  {
   "cell_type": "code",
   "execution_count": 24,
   "metadata": {},
   "outputs": [
    {
     "data": {
      "image/png": "[encoded data removed]",
      "text/plain": [
       "<Figure size 1152x1152 with 1 Axes>"
      ]
     },
     "metadata": {},
     "output_type": "display_data"
    }
   ],
   "source": [
    "plt.figure(figsize=(16,16))\n",
    "\n",
    "sns.regplot(x=df['approx_cost(for two people)'],y=df['rate']);\n",
    "plt.xlabel(\"Cost in Rupees\")\n",
    "plt.ylabel(\"Rating\")\n",
    "plt.grid()\n",
    "plt.title(\"Cost vs Rating\");"
   ]
  },
  {
   "cell_type": "markdown",
   "metadata": {},
   "source": [
    "#### No, actually its the opposite, usually restaurants which provide costly services are rated highly"
   ]
  },
  {
   "cell_type": "markdown",
   "metadata": {},
   "source": [
    "<a id='q5'></a>\n",
    "\n",
    "### Q5: Is there any linear correlation(where an increase/decrease of a value indicates a change in the value of another proportionally) between any of the numerical columns in this dataset?"
   ]
  },
  {
   "cell_type": "code",
   "execution_count": 25,
   "metadata": {},
   "outputs": [
    {
     "data": {
      "image/png": "[encoded data removed]",
      "text/plain": [
       "<Figure size 1008x720 with 2 Axes>"
      ]
     },
     "metadata": {},
     "output_type": "display_data"
    }
   ],
   "source": [
    "plt.figure(figsize=(14,10))\n",
    "sns.heatmap(df.corr(),annot=True);"
   ]
  },
  {
   "cell_type": "markdown",
   "metadata": {},
   "source": [
    "#### There seems to be a moderate correlation between **rate** and **vote**, but it is a week cause to think either of them causes another(there might be a confounding variable), and a week correlation between **approx_cost(for two people)** and **votes**,**approx_cost(for two people)** and **rate**"
   ]
  },
  {
   "cell_type": "markdown",
   "metadata": {},
   "source": [
    "<a id='q6'></a>\n",
    "\n",
    "### Q6: Which cities have the highest purchasing power in Bangalore?"
   ]
  },
  {
   "cell_type": "code",
   "execution_count": 26,
   "metadata": {},
   "outputs": [
    {
     "data": {
      "image/png": "[encoded data removed]",
      "text/plain": [
       "<Figure size 1152x1152 with 1 Axes>"
      ]
     },
     "metadata": {},
     "output_type": "display_data"
    }
   ],
   "source": [
    "q6=df.groupby('listed_in(city)').agg(minimum=('approx_cost(for two people)','min'),avg=('approx_cost(for two people)','mean'),maximum=('approx_cost(for two people)','max')).sort_values(by='avg')\n",
    "q6.plot(kind='barh',figsize=(16,16));\n",
    "plt.title('Purchasing Power per City');\n",
    "plt.xlabel('Price in Rupees');\n",
    "plt.ylabel('City');"
   ]
  },
  {
   "cell_type": "markdown",
   "metadata": {},
   "source": [
    "#### **Church Street** has the highest purchasing power (usually cities with higher percentage of high class citizens), while **Banashankari** has the lowest purchasing power"
   ]
  },
  {
   "cell_type": "markdown",
   "metadata": {},
   "source": [
    "<a id='q7'></a>\n",
    "\n",
    "### Q7: Does a restuarant have a higher average rating if it has both a book table reservation and online order?"
   ]
  },
  {
   "cell_type": "code",
   "execution_count": 27,
   "metadata": {},
   "outputs": [
    {
     "data": {
      "image/png": "[encoded data removed]",
      "text/plain": [
       "<Figure size 432x288 with 2 Axes>"
      ]
     },
     "metadata": {},
     "output_type": "display_data"
    }
   ],
   "source": [
    "q7=df.groupby(['online_order','book_table'])['rate'].mean()\n",
    "l=[[q7[0],q7[1]],[q7[2],q7[3]]]\n",
    "ax = sns.heatmap(l, linewidth=0.5,annot=True,cmap='Blues')\n",
    "labelx = [item.get_text() for item in ax.get_xticklabels()]\n",
    "labelx = ['No','Yes']\n",
    "labely = [item.get_text() for item in ax.get_yticklabels()]\n",
    "labely = ['No','Yes']\n",
    "ax.set_xticklabels(labelx)\n",
    "ax.set_yticklabels(labely)\n",
    "plt.ylabel('Online Order')\n",
    "plt.xlabel('Book Table')\n",
    "plt.title('Rating Across Different Settings for Restaurants')\n",
    "plt.show()"
   ]
  },
  {
   "cell_type": "markdown",
   "metadata": {},
   "source": [
    "#### Usually restuarants which has a Book Table has noticably higher ratings than any other setting"
   ]
  },
  {
   "cell_type": "markdown",
   "metadata": {},
   "source": [
    "<a id='wrangling'></a>\n",
    "\n",
    "> ## Data Wrangling"
   ]
  },
  {
   "cell_type": "markdown",
   "metadata": {},
   "source": [
    "### Information about the numerical features in the dataset"
   ]
  },
  {
   "cell_type": "code",
   "execution_count": 28,
   "metadata": {},
   "outputs": [
    {
     "data": {
      "text/html": [
       "<div>\n",
       "<style scoped>\n",
       "    .dataframe tbody tr th:only-of-type {\n",
       "        vertical-align: middle;\n",
       "    }\n",
       "\n",
       "    .dataframe tbody tr th {\n",
       "        vertical-align: top;\n",
       "    }\n",
       "\n",
       "    .dataframe thead th {\n",
       "        text-align: right;\n",
       "    }\n",
       "</style>\n",
       "<table border=\"1\" class=\"dataframe\">\n",
       "  <thead>\n",
       "    <tr style=\"text-align: right;\">\n",
       "      <th></th>\n",
       "      <th>rate</th>\n",
       "      <th>votes</th>\n",
       "      <th>approx_cost(for two people)</th>\n",
       "    </tr>\n",
       "  </thead>\n",
       "  <tbody>\n",
       "    <tr>\n",
       "      <th>count</th>\n",
       "      <td>48125.000000</td>\n",
       "      <td>59444.000000</td>\n",
       "      <td>59017.000000</td>\n",
       "    </tr>\n",
       "    <tr>\n",
       "      <th>mean</th>\n",
       "      <td>3.724763</td>\n",
       "      <td>330.297271</td>\n",
       "      <td>582.869868</td>\n",
       "    </tr>\n",
       "    <tr>\n",
       "      <th>std</th>\n",
       "      <td>0.448068</td>\n",
       "      <td>922.746953</td>\n",
       "      <td>462.686832</td>\n",
       "    </tr>\n",
       "    <tr>\n",
       "      <th>min</th>\n",
       "      <td>1.800000</td>\n",
       "      <td>0.000000</td>\n",
       "      <td>40.000000</td>\n",
       "    </tr>\n",
       "    <tr>\n",
       "      <th>25%</th>\n",
       "      <td>3.400000</td>\n",
       "      <td>7.000000</td>\n",
       "      <td>300.000000</td>\n",
       "    </tr>\n",
       "    <tr>\n",
       "      <th>50%</th>\n",
       "      <td>3.800000</td>\n",
       "      <td>44.000000</td>\n",
       "      <td>400.000000</td>\n",
       "    </tr>\n",
       "    <tr>\n",
       "      <th>75%</th>\n",
       "      <td>4.000000</td>\n",
       "      <td>221.000000</td>\n",
       "      <td>700.000000</td>\n",
       "    </tr>\n",
       "    <tr>\n",
       "      <th>max</th>\n",
       "      <td>4.900000</td>\n",
       "      <td>16832.000000</td>\n",
       "      <td>6000.000000</td>\n",
       "    </tr>\n",
       "  </tbody>\n",
       "</table>\n",
       "</div>"
      ],
      "text/plain": [
       "               rate         votes  approx_cost(for two people)\n",
       "count  48125.000000  59444.000000                 59017.000000\n",
       "mean       3.724763    330.297271                   582.869868\n",
       "std        0.448068    922.746953                   462.686832\n",
       "min        1.800000      0.000000                    40.000000\n",
       "25%        3.400000      7.000000                   300.000000\n",
       "50%        3.800000     44.000000                   400.000000\n",
       "75%        4.000000    221.000000                   700.000000\n",
       "max        4.900000  16832.000000                  6000.000000"
      ]
     },
     "execution_count": 28,
     "metadata": {},
     "output_type": "execute_result"
    }
   ],
   "source": [
    "df.describe()"
   ]
  },
  {
   "cell_type": "code",
   "execution_count": 29,
   "metadata": {},
   "outputs": [
    {
     "name": "stdout",
     "output_type": "stream",
     "text": [
      "<class 'pandas.core.frame.DataFrame'>\n",
      "Int64Index: 59444 entries, 0 to 51716\n",
      "Data columns (total 17 columns):\n",
      " #   Column                       Non-Null Count  Dtype  \n",
      "---  ------                       --------------  -----  \n",
      " 0   url                          59444 non-null  object \n",
      " 1   address                      59444 non-null  object \n",
      " 2   name                         59444 non-null  object \n",
      " 3   online_order                 59444 non-null  object \n",
      " 4   book_table                   59444 non-null  object \n",
      " 5   rate                         48125 non-null  float64\n",
      " 6   votes                        59444 non-null  int64  \n",
      " 7   phone                        58045 non-null  object \n",
      " 8   location                     59423 non-null  object \n",
      " 9   rest_type                    59444 non-null  object \n",
      " 10  dish_liked                   28152 non-null  object \n",
      " 11  cuisines                     59395 non-null  object \n",
      " 12  approx_cost(for two people)  59017 non-null  float64\n",
      " 13  reviews_list                 59444 non-null  object \n",
      " 14  menu_item                    59444 non-null  object \n",
      " 15  listed_in(type)              59444 non-null  object \n",
      " 16  listed_in(city)              59444 non-null  object \n",
      "dtypes: float64(2), int64(1), object(14)\n",
      "memory usage: 8.2+ MB\n"
     ]
    }
   ],
   "source": [
    "df.info()"
   ]
  },
  {
   "cell_type": "markdown",
   "metadata": {},
   "source": [
    "#### We deduce that there are some NA values in our dataset"
   ]
  },
  {
   "cell_type": "code",
   "execution_count": 30,
   "metadata": {},
   "outputs": [],
   "source": [
    "def missing_cols(df):\n",
    "    \"\"\"missing_cols _summary_\n",
    "\n",
    "    Parameters\n",
    "    ----------\n",
    "    df : pd.DataFrame\n",
    "        this function takes a DataFrame and finds the columns with missing values\n",
    "\n",
    "    Returns\n",
    "    -------\n",
    "    list: str\n",
    "        return any column that has a na value\n",
    "    \"\"\"\n",
    "    return df.columns[df.isnull().any()]"
   ]
  },
  {
   "cell_type": "code",
   "execution_count": 31,
   "metadata": {},
   "outputs": [
    {
     "name": "stdout",
     "output_type": "stream",
     "text": [
      "rate\n",
      "phone\n",
      "location\n",
      "dish_liked\n",
      "cuisines\n",
      "approx_cost(for two people)\n"
     ]
    }
   ],
   "source": [
    "for i in missing_cols(df): # returns the missing columns name in a given dataset\n",
    "    print(i)"
   ]
  },
  {
   "cell_type": "markdown",
   "metadata": {},
   "source": [
    "#### The columns above has missing values, first lets decide whether we will drop any of them"
   ]
  },
  {
   "cell_type": "markdown",
   "metadata": {},
   "source": [
    "#### Now, lets deal with **phone** column, since this column does not provide useful info that could be genralized, and also it is multivalued (maybe number of phone numbers per customer), I think the best course of action is to remove it"
   ]
  },
  {
   "cell_type": "code",
   "execution_count": 32,
   "metadata": {},
   "outputs": [],
   "source": [
    "df.drop(['phone'],axis=1,inplace=True)"
   ]
  },
  {
   "cell_type": "markdown",
   "metadata": {},
   "source": [
    "#### There is a bit of confusion between **location** and **listed_in(city)** are very similar, **listed_in(city)** indicates that a specific restaurant privdes its services there, while other **location** indicates which city the restuarant adddress is located exactly, so I will drop **location**"
   ]
  },
  {
   "cell_type": "code",
   "execution_count": 33,
   "metadata": {},
   "outputs": [],
   "source": [
    "df.drop(['location'],axis=1,inplace=True)"
   ]
  },
  {
   "cell_type": "markdown",
   "metadata": {},
   "source": [
    "#### No useful info can be extracted directly from the **url**, **address**, **name** and **menu_item** so I will drop them"
   ]
  },
  {
   "cell_type": "code",
   "execution_count": 34,
   "metadata": {},
   "outputs": [],
   "source": [
    "df.drop(['url','address','menu_item','name'],axis=1,inplace=True)"
   ]
  },
  {
   "cell_type": "markdown",
   "metadata": {},
   "source": [
    "### The **reviews_list** column seems to be useful to provide average rating but the **rate** column already provides this info so its redundant, also it provide textual reviews which we could use for sentiment analysis but it is too complex to extract useful data from (maybe using a naive bayes, nlp model will help but this is far from the scope of EDA or the task itself), so I will drop this column"
   ]
  },
  {
   "cell_type": "code",
   "execution_count": 35,
   "metadata": {},
   "outputs": [],
   "source": [
    "df.drop(['reviews_list'],axis=1,inplace=True)"
   ]
  },
  {
   "cell_type": "code",
   "execution_count": 36,
   "metadata": {},
   "outputs": [
    {
     "name": "stdout",
     "output_type": "stream",
     "text": [
      "rate\n",
      "dish_liked\n",
      "cuisines\n",
      "approx_cost(for two people)\n"
     ]
    }
   ],
   "source": [
    "for i in missing_cols(df): # returns the missing columns name in a given dataset\n",
    "    print(i)"
   ]
  },
  {
   "cell_type": "markdown",
   "metadata": {},
   "source": [
    "#### Lets find the percentage of missing value in **rate**  column"
   ]
  },
  {
   "cell_type": "code",
   "execution_count": 37,
   "metadata": {},
   "outputs": [],
   "source": [
    "def percentage_missing(df,col_name):\n",
    "    return df[col_name].isnull().sum() * 100 / len(df)\n",
    "    "
   ]
  },
  {
   "cell_type": "code",
   "execution_count": 38,
   "metadata": {},
   "outputs": [
    {
     "data": {
      "text/plain": [
       "19.041450777202073"
      ]
     },
     "execution_count": 38,
     "metadata": {},
     "output_type": "execute_result"
    }
   ],
   "source": [
    "percentage_missing(df,'rate')"
   ]
  },
  {
   "cell_type": "markdown",
   "metadata": {},
   "source": [
    "#### 19% of missing values in **rate** column, I will impute them using the median value of **rate**"
   ]
  },
  {
   "cell_type": "code",
   "execution_count": 39,
   "metadata": {},
   "outputs": [],
   "source": [
    "df['rate']=df['rate'].fillna(value=df['rate'].median())"
   ]
  },
  {
   "cell_type": "markdown",
   "metadata": {},
   "source": [
    "#### We know that **approx_cost(for two people)** has missing values,"
   ]
  },
  {
   "cell_type": "code",
   "execution_count": 40,
   "metadata": {},
   "outputs": [
    {
     "data": {
      "text/plain": [
       "0.7183231276495525"
      ]
     },
     "execution_count": 40,
     "metadata": {},
     "output_type": "execute_result"
    }
   ],
   "source": [
    "percentage_missing(df,'approx_cost(for two people)')"
   ]
  },
  {
   "cell_type": "markdown",
   "metadata": {},
   "source": [
    "#### this is a small percentage that we can drop without losing much information"
   ]
  },
  {
   "cell_type": "code",
   "execution_count": 41,
   "metadata": {},
   "outputs": [],
   "source": [
    "df=df.dropna(subset=['approx_cost(for two people)'],axis=0)"
   ]
  },
  {
   "cell_type": "markdown",
   "metadata": {},
   "source": [
    "#### for **dish_liked** column lets see the percentage of missing values"
   ]
  },
  {
   "cell_type": "code",
   "execution_count": 42,
   "metadata": {},
   "outputs": [
    {
     "data": {
      "text/plain": [
       "52.611959265974214"
      ]
     },
     "execution_count": 42,
     "metadata": {},
     "output_type": "execute_result"
    }
   ],
   "source": [
    "percentage_missing(df,'dish_liked')"
   ]
  },
  {
   "cell_type": "markdown",
   "metadata": {},
   "source": [
    "#### This is half the size of the dataset :( , I will impute any missing value using the mode"
   ]
  },
  {
   "cell_type": "code",
   "execution_count": 43,
   "metadata": {},
   "outputs": [
    {
     "data": {
      "text/plain": [
       "'Biryani'"
      ]
     },
     "execution_count": 43,
     "metadata": {},
     "output_type": "execute_result"
    }
   ],
   "source": [
    "mode=df['dish_liked'].mode()[0]\n",
    "mode"
   ]
  },
  {
   "cell_type": "code",
   "execution_count": 44,
   "metadata": {},
   "outputs": [],
   "source": [
    "df['dish_liked']=df['dish_liked'].fillna(value=mode)"
   ]
  },
  {
   "cell_type": "markdown",
   "metadata": {},
   "source": [
    "#### for **cuisines** column lets see the percentage of missing values"
   ]
  },
  {
   "cell_type": "code",
   "execution_count": 45,
   "metadata": {},
   "outputs": [
    {
     "data": {
      "text/plain": [
       "0.03897182167849941"
      ]
     },
     "execution_count": 45,
     "metadata": {},
     "output_type": "execute_result"
    }
   ],
   "source": [
    "percentage_missing(df,'cuisines')"
   ]
  },
  {
   "cell_type": "markdown",
   "metadata": {},
   "source": [
    "#### So since the percentage is very small we can drop this or not without much effect, I will drop them"
   ]
  },
  {
   "cell_type": "code",
   "execution_count": 46,
   "metadata": {},
   "outputs": [],
   "source": [
    "df=df.dropna(subset=['cuisines'],axis=0)"
   ]
  },
  {
   "cell_type": "markdown",
   "metadata": {},
   "source": [
    "#### After data wrangling lets check if any column has missing values"
   ]
  },
  {
   "cell_type": "code",
   "execution_count": 47,
   "metadata": {},
   "outputs": [],
   "source": [
    "for i in missing_cols(df):\n",
    "    print(i)"
   ]
  },
  {
   "cell_type": "markdown",
   "metadata": {},
   "source": [
    "#### No missing values in our dataset :)"
   ]
  },
  {
   "cell_type": "markdown",
   "metadata": {},
   "source": [
    "#### Now lets one-hot encode **online_order**, **book_table** columns"
   ]
  },
  {
   "cell_type": "code",
   "execution_count": 48,
   "metadata": {},
   "outputs": [],
   "source": [
    "def one_hot_encode(string: str):\n",
    "    \"\"\"one_hot_encode _summary_\n",
    "\n",
    "    Parameters\n",
    "    ----------\n",
    "    string : str\n",
    "        A string that has a 'yes' or 'no' value, this function only one-hot encode binary columns (columns with binary values)\n",
    "\n",
    "    Returns\n",
    "    -------\n",
    "    int/bool\n",
    "        \n",
    "    \"\"\"\n",
    "    \n",
    "    if string.lower()=='yes':\n",
    "        return 1\n",
    "    elif string.lower()=='no':\n",
    "        return 0"
   ]
  },
  {
   "cell_type": "code",
   "execution_count": 49,
   "metadata": {},
   "outputs": [],
   "source": [
    "df['online_order']=df['online_order'].apply(one_hot_encode)\n",
    "df['book_table']=df['book_table'].apply(one_hot_encode)"
   ]
  },
  {
   "cell_type": "markdown",
   "metadata": {},
   "source": [
    "#### a final problem remains, we need to standardize the format of **dish_liked** and **cuisines** since they are multivalued **(feature enigneering)**"
   ]
  },
  {
   "cell_type": "code",
   "execution_count": 50,
   "metadata": {},
   "outputs": [],
   "source": [
    "df['dish_liked']=df['dish_liked'].apply(multivalue_to_list,args=(',')) # convert dish_liked to be 1nf\n",
    "df=df.explode('dish_liked')\n",
    "\n",
    "df['cuisines']=df['cuisines'].apply(multivalue_to_list,args=(',')) # convert cuisines to be 1nf\n",
    "df=df.explode('cuisines')"
   ]
  },
  {
   "cell_type": "code",
   "execution_count": 51,
   "metadata": {},
   "outputs": [
    {
     "data": {
      "text/html": [
       "<div>\n",
       "<style scoped>\n",
       "    .dataframe tbody tr th:only-of-type {\n",
       "        vertical-align: middle;\n",
       "    }\n",
       "\n",
       "    .dataframe tbody tr th {\n",
       "        vertical-align: top;\n",
       "    }\n",
       "\n",
       "    .dataframe thead th {\n",
       "        text-align: right;\n",
       "    }\n",
       "</style>\n",
       "<table border=\"1\" class=\"dataframe\">\n",
       "  <thead>\n",
       "    <tr style=\"text-align: right;\">\n",
       "      <th></th>\n",
       "      <th>online_order</th>\n",
       "      <th>book_table</th>\n",
       "      <th>rate</th>\n",
       "      <th>votes</th>\n",
       "      <th>rest_type</th>\n",
       "      <th>dish_liked</th>\n",
       "      <th>cuisines</th>\n",
       "      <th>approx_cost(for two people)</th>\n",
       "      <th>listed_in(type)</th>\n",
       "      <th>listed_in(city)</th>\n",
       "    </tr>\n",
       "  </thead>\n",
       "  <tbody>\n",
       "    <tr>\n",
       "      <th>0</th>\n",
       "      <td>1</td>\n",
       "      <td>1</td>\n",
       "      <td>4.1</td>\n",
       "      <td>775</td>\n",
       "      <td>Casual Dining</td>\n",
       "      <td>Pasta</td>\n",
       "      <td>North Indian</td>\n",
       "      <td>800.0</td>\n",
       "      <td>Buffet</td>\n",
       "      <td>Banashankari</td>\n",
       "    </tr>\n",
       "    <tr>\n",
       "      <th>0</th>\n",
       "      <td>1</td>\n",
       "      <td>1</td>\n",
       "      <td>4.1</td>\n",
       "      <td>775</td>\n",
       "      <td>Casual Dining</td>\n",
       "      <td>Pasta</td>\n",
       "      <td>Mughlai</td>\n",
       "      <td>800.0</td>\n",
       "      <td>Buffet</td>\n",
       "      <td>Banashankari</td>\n",
       "    </tr>\n",
       "    <tr>\n",
       "      <th>0</th>\n",
       "      <td>1</td>\n",
       "      <td>1</td>\n",
       "      <td>4.1</td>\n",
       "      <td>775</td>\n",
       "      <td>Casual Dining</td>\n",
       "      <td>Pasta</td>\n",
       "      <td>Chinese</td>\n",
       "      <td>800.0</td>\n",
       "      <td>Buffet</td>\n",
       "      <td>Banashankari</td>\n",
       "    </tr>\n",
       "    <tr>\n",
       "      <th>0</th>\n",
       "      <td>1</td>\n",
       "      <td>1</td>\n",
       "      <td>4.1</td>\n",
       "      <td>775</td>\n",
       "      <td>Casual Dining</td>\n",
       "      <td>Lunch Buffet</td>\n",
       "      <td>North Indian</td>\n",
       "      <td>800.0</td>\n",
       "      <td>Buffet</td>\n",
       "      <td>Banashankari</td>\n",
       "    </tr>\n",
       "    <tr>\n",
       "      <th>0</th>\n",
       "      <td>1</td>\n",
       "      <td>1</td>\n",
       "      <td>4.1</td>\n",
       "      <td>775</td>\n",
       "      <td>Casual Dining</td>\n",
       "      <td>Lunch Buffet</td>\n",
       "      <td>Mughlai</td>\n",
       "      <td>800.0</td>\n",
       "      <td>Buffet</td>\n",
       "      <td>Banashankari</td>\n",
       "    </tr>\n",
       "  </tbody>\n",
       "</table>\n",
       "</div>"
      ],
      "text/plain": [
       "   online_order  book_table  rate  votes      rest_type     dish_liked  \\\n",
       "0             1           1   4.1    775  Casual Dining          Pasta   \n",
       "0             1           1   4.1    775  Casual Dining          Pasta   \n",
       "0             1           1   4.1    775  Casual Dining          Pasta   \n",
       "0             1           1   4.1    775  Casual Dining   Lunch Buffet   \n",
       "0             1           1   4.1    775  Casual Dining   Lunch Buffet   \n",
       "\n",
       "       cuisines  approx_cost(for two people) listed_in(type) listed_in(city)  \n",
       "0  North Indian                        800.0          Buffet    Banashankari  \n",
       "0       Mughlai                        800.0          Buffet    Banashankari  \n",
       "0       Chinese                        800.0          Buffet    Banashankari  \n",
       "0  North Indian                        800.0          Buffet    Banashankari  \n",
       "0       Mughlai                        800.0          Buffet    Banashankari  "
      ]
     },
     "execution_count": 51,
     "metadata": {},
     "output_type": "execute_result"
    }
   ],
   "source": [
    "df.head()"
   ]
  },
  {
   "cell_type": "markdown",
   "metadata": {},
   "source": [
    "#### We can use either label encode the categorical columns to use later in our models, or one hot encode them, each has its disadvantages but one-hot encoding is better for accurate results, unfortunately my device cant handle such task , so I will stick with label encoding"
   ]
  },
  {
   "cell_type": "code",
   "execution_count": 52,
   "metadata": {},
   "outputs": [
    {
     "data": {
      "text/html": [
       "<div>\n",
       "<style scoped>\n",
       "    .dataframe tbody tr th:only-of-type {\n",
       "        vertical-align: middle;\n",
       "    }\n",
       "\n",
       "    .dataframe tbody tr th {\n",
       "        vertical-align: top;\n",
       "    }\n",
       "\n",
       "    .dataframe thead th {\n",
       "        text-align: right;\n",
       "    }\n",
       "</style>\n",
       "<table border=\"1\" class=\"dataframe\">\n",
       "  <thead>\n",
       "    <tr style=\"text-align: right;\">\n",
       "      <th></th>\n",
       "      <th>online_order</th>\n",
       "      <th>book_table</th>\n",
       "      <th>rate</th>\n",
       "      <th>votes</th>\n",
       "      <th>rest_type</th>\n",
       "      <th>dish_liked</th>\n",
       "      <th>cuisines</th>\n",
       "      <th>approx_cost(for two people)</th>\n",
       "      <th>listed_in(type)</th>\n",
       "      <th>listed_in(city)</th>\n",
       "    </tr>\n",
       "  </thead>\n",
       "  <tbody>\n",
       "    <tr>\n",
       "      <th>0</th>\n",
       "      <td>1</td>\n",
       "      <td>1</td>\n",
       "      <td>4.1</td>\n",
       "      <td>775</td>\n",
       "      <td>Casual Dining</td>\n",
       "      <td>Pasta</td>\n",
       "      <td>North Indian</td>\n",
       "      <td>800.0</td>\n",
       "      <td>Buffet</td>\n",
       "      <td>Banashankari</td>\n",
       "    </tr>\n",
       "    <tr>\n",
       "      <th>0</th>\n",
       "      <td>1</td>\n",
       "      <td>1</td>\n",
       "      <td>4.1</td>\n",
       "      <td>775</td>\n",
       "      <td>Casual Dining</td>\n",
       "      <td>Pasta</td>\n",
       "      <td>Mughlai</td>\n",
       "      <td>800.0</td>\n",
       "      <td>Buffet</td>\n",
       "      <td>Banashankari</td>\n",
       "    </tr>\n",
       "    <tr>\n",
       "      <th>0</th>\n",
       "      <td>1</td>\n",
       "      <td>1</td>\n",
       "      <td>4.1</td>\n",
       "      <td>775</td>\n",
       "      <td>Casual Dining</td>\n",
       "      <td>Pasta</td>\n",
       "      <td>Chinese</td>\n",
       "      <td>800.0</td>\n",
       "      <td>Buffet</td>\n",
       "      <td>Banashankari</td>\n",
       "    </tr>\n",
       "    <tr>\n",
       "      <th>0</th>\n",
       "      <td>1</td>\n",
       "      <td>1</td>\n",
       "      <td>4.1</td>\n",
       "      <td>775</td>\n",
       "      <td>Casual Dining</td>\n",
       "      <td>Lunch Buffet</td>\n",
       "      <td>North Indian</td>\n",
       "      <td>800.0</td>\n",
       "      <td>Buffet</td>\n",
       "      <td>Banashankari</td>\n",
       "    </tr>\n",
       "    <tr>\n",
       "      <th>0</th>\n",
       "      <td>1</td>\n",
       "      <td>1</td>\n",
       "      <td>4.1</td>\n",
       "      <td>775</td>\n",
       "      <td>Casual Dining</td>\n",
       "      <td>Lunch Buffet</td>\n",
       "      <td>Mughlai</td>\n",
       "      <td>800.0</td>\n",
       "      <td>Buffet</td>\n",
       "      <td>Banashankari</td>\n",
       "    </tr>\n",
       "  </tbody>\n",
       "</table>\n",
       "</div>"
      ],
      "text/plain": [
       "   online_order  book_table  rate  votes      rest_type     dish_liked  \\\n",
       "0             1           1   4.1    775  Casual Dining          Pasta   \n",
       "0             1           1   4.1    775  Casual Dining          Pasta   \n",
       "0             1           1   4.1    775  Casual Dining          Pasta   \n",
       "0             1           1   4.1    775  Casual Dining   Lunch Buffet   \n",
       "0             1           1   4.1    775  Casual Dining   Lunch Buffet   \n",
       "\n",
       "       cuisines  approx_cost(for two people) listed_in(type) listed_in(city)  \n",
       "0  North Indian                        800.0          Buffet    Banashankari  \n",
       "0       Mughlai                        800.0          Buffet    Banashankari  \n",
       "0       Chinese                        800.0          Buffet    Banashankari  \n",
       "0  North Indian                        800.0          Buffet    Banashankari  \n",
       "0       Mughlai                        800.0          Buffet    Banashankari  "
      ]
     },
     "execution_count": 52,
     "metadata": {},
     "output_type": "execute_result"
    }
   ],
   "source": [
    "df.head()"
   ]
  },
  {
   "cell_type": "code",
   "execution_count": 53,
   "metadata": {},
   "outputs": [
    {
     "name": "stdout",
     "output_type": "stream",
     "text": [
      "Index(['rest_type', 'dish_liked', 'cuisines', 'listed_in(type)',\n",
      "       'listed_in(city)'],\n",
      "      dtype='object')\n"
     ]
    },
    {
     "data": {
      "text/html": [
       "<div>\n",
       "<style scoped>\n",
       "    .dataframe tbody tr th:only-of-type {\n",
       "        vertical-align: middle;\n",
       "    }\n",
       "\n",
       "    .dataframe tbody tr th {\n",
       "        vertical-align: top;\n",
       "    }\n",
       "\n",
       "    .dataframe thead th {\n",
       "        text-align: right;\n",
       "    }\n",
       "</style>\n",
       "<table border=\"1\" class=\"dataframe\">\n",
       "  <thead>\n",
       "    <tr style=\"text-align: right;\">\n",
       "      <th></th>\n",
       "      <th>online_order</th>\n",
       "      <th>book_table</th>\n",
       "      <th>rate</th>\n",
       "      <th>votes</th>\n",
       "      <th>rest_type</th>\n",
       "      <th>dish_liked</th>\n",
       "      <th>cuisines</th>\n",
       "      <th>approx_cost(for two people)</th>\n",
       "      <th>listed_in(type)</th>\n",
       "      <th>listed_in(city)</th>\n",
       "    </tr>\n",
       "  </thead>\n",
       "  <tbody>\n",
       "    <tr>\n",
       "      <th>0</th>\n",
       "      <td>1</td>\n",
       "      <td>1</td>\n",
       "      <td>4.1</td>\n",
       "      <td>775</td>\n",
       "      <td>22</td>\n",
       "      <td>3269</td>\n",
       "      <td>165</td>\n",
       "      <td>800.0</td>\n",
       "      <td>0</td>\n",
       "      <td>1</td>\n",
       "    </tr>\n",
       "    <tr>\n",
       "      <th>0</th>\n",
       "      <td>1</td>\n",
       "      <td>1</td>\n",
       "      <td>4.1</td>\n",
       "      <td>775</td>\n",
       "      <td>22</td>\n",
       "      <td>3269</td>\n",
       "      <td>68</td>\n",
       "      <td>800.0</td>\n",
       "      <td>0</td>\n",
       "      <td>1</td>\n",
       "    </tr>\n",
       "    <tr>\n",
       "      <th>0</th>\n",
       "      <td>1</td>\n",
       "      <td>1</td>\n",
       "      <td>4.1</td>\n",
       "      <td>775</td>\n",
       "      <td>22</td>\n",
       "      <td>3269</td>\n",
       "      <td>25</td>\n",
       "      <td>800.0</td>\n",
       "      <td>0</td>\n",
       "      <td>1</td>\n",
       "    </tr>\n",
       "    <tr>\n",
       "      <th>0</th>\n",
       "      <td>1</td>\n",
       "      <td>1</td>\n",
       "      <td>4.1</td>\n",
       "      <td>775</td>\n",
       "      <td>22</td>\n",
       "      <td>1462</td>\n",
       "      <td>165</td>\n",
       "      <td>800.0</td>\n",
       "      <td>0</td>\n",
       "      <td>1</td>\n",
       "    </tr>\n",
       "    <tr>\n",
       "      <th>0</th>\n",
       "      <td>1</td>\n",
       "      <td>1</td>\n",
       "      <td>4.1</td>\n",
       "      <td>775</td>\n",
       "      <td>22</td>\n",
       "      <td>1462</td>\n",
       "      <td>68</td>\n",
       "      <td>800.0</td>\n",
       "      <td>0</td>\n",
       "      <td>1</td>\n",
       "    </tr>\n",
       "  </tbody>\n",
       "</table>\n",
       "</div>"
      ],
      "text/plain": [
       "   online_order  book_table  rate  votes  rest_type  dish_liked  cuisines  \\\n",
       "0             1           1   4.1    775         22        3269       165   \n",
       "0             1           1   4.1    775         22        3269        68   \n",
       "0             1           1   4.1    775         22        3269        25   \n",
       "0             1           1   4.1    775         22        1462       165   \n",
       "0             1           1   4.1    775         22        1462        68   \n",
       "\n",
       "   approx_cost(for two people)  listed_in(type)  listed_in(city)  \n",
       "0                        800.0                0                1  \n",
       "0                        800.0                0                1  \n",
       "0                        800.0                0                1  \n",
       "0                        800.0                0                1  \n",
       "0                        800.0                0                1  "
      ]
     },
     "execution_count": 53,
     "metadata": {},
     "output_type": "execute_result"
    }
   ],
   "source": [
    "#df=pd.get_dummies(df, columns = ['rest_type','dish_liked','cuisines','listed_in(city)','listed_in(type)'])\n",
    "#df['rest_type']=df['rest_type'].apply(LabelEncoder().fit_transform)\n",
    "#Label Encoding for object to numeric conversion\n",
    "from sklearn.preprocessing import LabelEncoder\n",
    "le = LabelEncoder()\n",
    "objList = df.select_dtypes(include = \"object\").columns\n",
    "print (objList)\n",
    "for feat in objList:\n",
    "    df[feat] = le.fit_transform(df[feat].astype(str))\n",
    "\n",
    "df.head()"
   ]
  },
  {
   "cell_type": "markdown",
   "metadata": {},
   "source": [
    "<a id='ml'></a>\n",
    "\n",
    "> ## Machine Learning Models\n",
    "\n",
    "\n",
    "<ul>\n",
    "<li><a href=\"#m1\">Logisitc Regression</a></li>\n",
    "<li><a href=\"#m2\">Random Forest</a></li>\n",
    "<li><a href=\"#m4\">XGBoost</a></li>\n",
    "</ul>"
   ]
  },
  {
   "cell_type": "markdown",
   "metadata": {},
   "source": [
    "#### Lets first create the target column and split our data for training and validation"
   ]
  },
  {
   "cell_type": "code",
   "execution_count": 54,
   "metadata": {},
   "outputs": [],
   "source": [
    "df['target']=0 # declare a column named target"
   ]
  },
  {
   "cell_type": "code",
   "execution_count": 55,
   "metadata": {},
   "outputs": [],
   "source": [
    "df['target'][df['rate']>=3.75]=1; # target is equal to 1 if the corresponding rate is >= 3.75\n",
    "df['target'][df['rate']<3.75]=0; # target is equal to 0 if the corresponding rate is < 3.75\n",
    "y=df['target']\n",
    "df.drop(['target'],axis=1,inplace=True)\n",
    "X=df"
   ]
  },
  {
   "cell_type": "code",
   "execution_count": 56,
   "metadata": {},
   "outputs": [],
   "source": [
    "X_train,X_test,y_train,y_test=train_test_split(X,y,test_size=0.2,random_state=77) # I set the seed manually for reproducible results when testing"
   ]
  },
  {
   "cell_type": "code",
   "execution_count": 57,
   "metadata": {},
   "outputs": [],
   "source": [
    "def metricss(y_test,y_pred):\n",
    "    acc=metrics.accuracy_score(y_test, y_pred)*100\n",
    "    precision=metrics.precision_score(y_test, y_pred)*100\n",
    "    recall=metrics.recall_score(y_test, y_pred)*100\n",
    "    return acc,precision,recall"
   ]
  },
  {
   "cell_type": "markdown",
   "metadata": {},
   "source": [
    "<a id='m1'></a>\n",
    "\n",
    "### Logistic Regression"
   ]
  },
  {
   "cell_type": "code",
   "execution_count": 58,
   "metadata": {},
   "outputs": [],
   "source": [
    "lr =  LogisticRegression()\n",
    "X_train.drop(['rate'],inplace=True,axis=1)# I did not recieve an instruction to remove rate column based on the task document but I removed it since I will gain a 100% accuaracy,precision,recall if I did not, also the program will determine this easy pattern of classifiying effortlessly\n",
    "X_test.drop(['rate'],inplace=True,axis=1)\n",
    "lr.fit(X_train,y_train)\n",
    "y_pred=lr.predict(X_test)"
   ]
  },
  {
   "cell_type": "code",
   "execution_count": 59,
   "metadata": {},
   "outputs": [
    {
     "name": "stdout",
     "output_type": "stream",
     "text": [
      "Accuracy: 79.77504027114351 %\n",
      "Precision: 81.68341733324128 %\n",
      "Recall: 96.3358458961474 %\n"
     ]
    }
   ],
   "source": [
    "results=metricss(y_test,y_pred)\n",
    "print(\"Accuracy:\",results[0],'%')\n",
    "print(\"Precision:\",results[1],'%')\n",
    "print(\"Recall:\",results[2],'%')"
   ]
  },
  {
   "cell_type": "markdown",
   "metadata": {},
   "source": [
    "<a id='m2'></a>\n",
    "\n",
    "### Random Forest"
   ]
  },
  {
   "cell_type": "code",
   "execution_count": 60,
   "metadata": {},
   "outputs": [],
   "source": [
    "rf= RandomForestClassifier()\n",
    "rf.fit(X_train,y_train)\n",
    "y_pred=rf.predict(X_test)"
   ]
  },
  {
   "cell_type": "code",
   "execution_count": 61,
   "metadata": {},
   "outputs": [
    {
     "name": "stdout",
     "output_type": "stream",
     "text": [
      "Accuracy: 99.5698203860443 %\n",
      "Precision: 99.8298328632369 %\n",
      "Recall: 99.6324213660897 %\n"
     ]
    }
   ],
   "source": [
    "results=metricss(y_test,y_pred)\n",
    "print(\"Accuracy:\",results[0],'%')\n",
    "print(\"Precision:\",results[1],'%')\n",
    "print(\"Recall:\",results[2],'%')"
   ]
  },
  {
   "cell_type": "markdown",
   "metadata": {},
   "source": [
    "<a id='m4'></a>\n",
    "\n",
    "### XGBoost"
   ]
  },
  {
   "cell_type": "code",
   "execution_count": 62,
   "metadata": {},
   "outputs": [
    {
     "name": "stdout",
     "output_type": "stream",
     "text": [
      "[01:36:05] WARNING: C:/Users/Administrator/workspace/xgboost-win64_release_1.5.1/src/learner.cc:1115: Starting in XGBoost 1.3.0, the default evaluation metric used with the objective 'binary:logistic' was changed from 'error' to 'logloss'. Explicitly set eval_metric if you'd like to restore the old behavior.\n"
     ]
    }
   ],
   "source": [
    "XGB = XGBClassifier()\n",
    "XGB.fit(X_train, y_train)\n",
    "y_pred=XGB.predict(X_test)"
   ]
  },
  {
   "cell_type": "code",
   "execution_count": 63,
   "metadata": {},
   "outputs": [
    {
     "name": "stdout",
     "output_type": "stream",
     "text": [
      "Accuracy: 94.94119947484566 %\n",
      "Precision: 96.28714293924938 %\n",
      "Recall: 97.43741857435325 %\n"
     ]
    }
   ],
   "source": [
    "results=metricss(y_test,y_pred)\n",
    "print(\"Accuracy:\",results[0],'%')\n",
    "print(\"Precision:\",results[1],'%')\n",
    "print(\"Recall:\",results[2],'%')"
   ]
  },
  {
   "cell_type": "markdown",
   "metadata": {},
   "source": [
    "<a id='hpt'></a>\n",
    "\n",
    "> ## Hyperparameter Tuning\n"
   ]
  },
  {
   "cell_type": "markdown",
   "metadata": {},
   "source": [
    "#### We can tune the depth of the random forest tree or the number of iteration untill convergance, using an optimal value for such hyper paramter will increase performance and be immensely useful when deploying the models for production"
   ]
  },
  {
   "cell_type": "markdown",
   "metadata": {},
   "source": [
    "### The best performing Algorithm is the Random Forest with a 99% accuaracy, I will use Grid Search Cross-Validation to find the best number of trees for each model and the depth for each of them"
   ]
  },
  {
   "cell_type": "code",
   "execution_count": 64,
   "metadata": {},
   "outputs": [],
   "source": [
    "max_depth = [int(x) for x in np.linspace(10, 40, num = 4)]\n",
    "n_estimators = [int(x) for x in np.linspace(start = 200, stop = 600, num = 4)] "
   ]
  },
  {
   "cell_type": "code",
   "execution_count": 65,
   "metadata": {},
   "outputs": [],
   "source": [
    "search_grid = {'n_estimators': n_estimators, # number of trees used for decision\n",
    "               'max_depth': max_depth} # maximum depth of a single tree"
   ]
  },
  {
   "cell_type": "code",
   "execution_count": 66,
   "metadata": {},
   "outputs": [
    {
     "name": "stdout",
     "output_type": "stream",
     "text": [
      "Fitting 2 folds for each of 16 candidates, totalling 32 fits\n",
      "[CV 1/2] END ....max_depth=10, n_estimators=200;, score=0.886 total time=  33.7s\n",
      "[CV 2/2] END ....max_depth=10, n_estimators=200;, score=0.887 total time=  32.4s\n",
      "[CV 1/2] END ....max_depth=10, n_estimators=333;, score=0.886 total time=  59.6s\n",
      "[CV 2/2] END ....max_depth=10, n_estimators=333;, score=0.886 total time=  59.8s\n",
      "[CV 1/2] END ....max_depth=10, n_estimators=466;, score=0.886 total time= 1.4min\n",
      "[CV 2/2] END ....max_depth=10, n_estimators=466;, score=0.887 total time= 1.4min\n",
      "[CV 1/2] END ....max_depth=10, n_estimators=600;, score=0.885 total time= 1.8min\n",
      "[CV 2/2] END ....max_depth=10, n_estimators=600;, score=0.887 total time= 1.8min\n",
      "[CV 1/2] END ....max_depth=20, n_estimators=200;, score=0.980 total time=  48.7s\n",
      "[CV 2/2] END ....max_depth=20, n_estimators=200;, score=0.982 total time=  48.2s\n",
      "[CV 1/2] END ....max_depth=20, n_estimators=333;, score=0.981 total time= 1.4min\n",
      "[CV 2/2] END ....max_depth=20, n_estimators=333;, score=0.981 total time= 1.3min\n",
      "[CV 1/2] END ....max_depth=20, n_estimators=466;, score=0.981 total time= 1.8min\n",
      "[CV 2/2] END ....max_depth=20, n_estimators=466;, score=0.982 total time= 1.8min\n",
      "[CV 1/2] END ....max_depth=20, n_estimators=600;, score=0.981 total time= 2.3min\n",
      "[CV 2/2] END ....max_depth=20, n_estimators=600;, score=0.981 total time= 2.4min\n",
      "[CV 1/2] END ....max_depth=30, n_estimators=200;, score=0.990 total time=  49.7s\n",
      "[CV 2/2] END ....max_depth=30, n_estimators=200;, score=0.991 total time=  51.8s\n",
      "[CV 1/2] END ....max_depth=30, n_estimators=333;, score=0.991 total time= 1.4min\n",
      "[CV 2/2] END ....max_depth=30, n_estimators=333;, score=0.991 total time= 1.4min\n",
      "[CV 1/2] END ....max_depth=30, n_estimators=466;, score=0.991 total time= 1.9min\n",
      "[CV 2/2] END ....max_depth=30, n_estimators=466;, score=0.991 total time= 1.9min\n",
      "[CV 1/2] END ....max_depth=30, n_estimators=600;, score=0.991 total time= 2.5min\n",
      "[CV 2/2] END ....max_depth=30, n_estimators=600;, score=0.991 total time= 2.4min\n",
      "[CV 1/2] END ....max_depth=40, n_estimators=200;, score=0.991 total time=  47.5s\n",
      "[CV 2/2] END ....max_depth=40, n_estimators=200;, score=0.991 total time=  49.0s\n",
      "[CV 1/2] END ....max_depth=40, n_estimators=333;, score=0.991 total time= 1.6min\n",
      "[CV 2/2] END ....max_depth=40, n_estimators=333;, score=0.991 total time= 1.5min\n",
      "[CV 1/2] END ....max_depth=40, n_estimators=466;, score=0.991 total time= 2.1min\n",
      "[CV 2/2] END ....max_depth=40, n_estimators=466;, score=0.991 total time= 2.1min\n",
      "[CV 1/2] END ....max_depth=40, n_estimators=600;, score=0.991 total time= 2.7min\n",
      "[CV 2/2] END ....max_depth=40, n_estimators=600;, score=0.991 total time= 2.5min\n"
     ]
    },
    {
     "data": {
      "text/plain": [
       "GridSearchCV(cv=2, estimator=RandomForestClassifier(),\n",
       "             param_grid={'max_depth': [10, 20, 30, 40],\n",
       "                         'n_estimators': [200, 333, 466, 600]},\n",
       "             verbose=3)"
      ]
     },
     "execution_count": 66,
     "metadata": {},
     "output_type": "execute_result"
    }
   ],
   "source": [
    "rf_random = GridSearchCV(estimator = rf, param_grid = search_grid, cv = 2,verbose=3)\n",
    "rf_random.fit(X_train, y_train) # due to the sheer size of the parameters this line will take a long time to execute so I used few combinations in max_depth and n_estimators\n",
    "# better parameters can be obtained by changing the max_depth, n_estimators nums and range parameters"
   ]
  },
  {
   "cell_type": "code",
   "execution_count": 67,
   "metadata": {},
   "outputs": [],
   "source": [
    "rf_best=rf_random.best_params_"
   ]
  },
  {
   "cell_type": "code",
   "execution_count": 68,
   "metadata": {},
   "outputs": [],
   "source": [
    "rf_new= RandomForestClassifier(max_depth=rf_best['max_depth'],n_estimators=rf_best['n_estimators'])\n",
    "rf_new.fit(X_train,y_train)\n",
    "y_pred=rf_new.predict(X_test)"
   ]
  },
  {
   "cell_type": "code",
   "execution_count": 69,
   "metadata": {},
   "outputs": [
    {
     "name": "stdout",
     "output_type": "stream",
     "text": [
      "Accuracy: 99.5726137601609 %\n",
      "Precision: 99.82751587902803 %\n",
      "Recall: 99.63823748371487 %\n"
     ]
    }
   ],
   "source": [
    "results=metricss(y_test,y_pred)\n",
    "print(\"Accuracy:\",results[0],'%')\n",
    "print(\"Precision:\",results[1],'%')\n",
    "print(\"Recall:\",results[2],'%')"
   ]
  },
  {
   "cell_type": "code",
   "execution_count": 70,
   "metadata": {},
   "outputs": [
    {
     "data": {
      "text/plain": [
       "{'max_depth': 40, 'n_estimators': 600}"
      ]
     },
     "execution_count": 70,
     "metadata": {},
     "output_type": "execute_result"
    }
   ],
   "source": [
    "rf_best"
   ]
  },
  {
   "cell_type": "markdown",
   "metadata": {},
   "source": [
    "#### The best combinations are displayed above for a 2-CV Grid Search on 16 parameters"
   ]
  },
  {
   "cell_type": "markdown",
   "metadata": {},
   "source": [
    "<a id='summary'></a>\n",
    "\n",
    "> ## Summary and Intrepretation"
   ]
  },
  {
   "cell_type": "markdown",
   "metadata": {},
   "source": [
    "1. **Church Street** has both higher purchasing power and average rating which I don't think is a coincidence, Zomato ought to understand what is confounding factors in such success, and improve other cities like **Electronic City**\n",
    "2. Having a book table reservation support provides massive coconvenience to customers and further improves their experience, therefore increasing average rating noticeably\n",
    "3. No apparent correlation between any numerical column which can be used to predict another column value\n",
    "4. Restaurants which provide a high-class expensive service tend to have great rating, which is not the case for mid/low-class restaurants\n",
    "5. **Quick Bites** restaurants type is the most common, where customers can grab a quick meal to eat while commuting or working "
   ]
  }
 ],
 "metadata": {
  "kernelspec": {
   "display_name": "Python 3.7.11 ('venv')",
   "language": "python",
   "name": "python3"
  },
  "language_info": {
   "codemirror_mode": {
    "name": "ipython",
    "version": 3
   },
   "file_extension": ".py",
   "mimetype": "text/x-python",
   "name": "python",
   "nbconvert_exporter": "python",
   "pygments_lexer": "ipython3",
   "version": "3.7.11"
  },
  "vscode": {
   "interpreter": {
    "hash": "a0219c7fb9a3ea5a3aef9cde8f981e20439ec62ccfaba430aba01f99d0659564"
   }
  }
 },
 "nbformat": 4,
 "nbformat_minor": 2
}
